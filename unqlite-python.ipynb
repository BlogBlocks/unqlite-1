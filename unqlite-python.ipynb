{
 "cells": [
  {
   "cell_type": "code",
   "execution_count": null,
   "metadata": {},
   "outputs": [],
   "source": [
    "https://github.com/coleifer/unqlite-python"
   ]
  },
  {
   "cell_type": "code",
   "execution_count": 3,
   "metadata": {},
   "outputs": [],
   "source": [
    "from unqlite import UnQLite"
   ]
  },
  {
   "cell_type": "code",
   "execution_count": 116,
   "metadata": {},
   "outputs": [],
   "source": [
    "db = UnQLite(\"UnQ_01.db\") \n",
    "test = 'This is a test'\n",
    "\n",
    "db['pic1'] = test # Use as a key/value store."
   ]
  },
  {
   "cell_type": "code",
   "execution_count": 121,
   "metadata": {},
   "outputs": [],
   "source": [
    "db = UnQLite(\"UnQ_01.db\") \n",
    "test = 'This is 2nd test'\n",
    "\n",
    "db['pic2'] = test # Use as a key/value store."
   ]
  },
  {
   "cell_type": "code",
   "execution_count": 128,
   "metadata": {},
   "outputs": [
    {
     "data": {
      "text/plain": [
       "[('pic1', 'This is a test'), ('pic2', 'This is 2nd test'), ('picq5', 'testq5')]"
      ]
     },
     "execution_count": 128,
     "metadata": {},
     "output_type": "execute_result"
    }
   ],
   "source": [
    "db = UnQLite(\"UnQ_01.db\") \n",
    "[item for item in db]"
   ]
  },
  {
   "cell_type": "code",
   "execution_count": 123,
   "metadata": {},
   "outputs": [],
   "source": [
    "db.close()"
   ]
  },
  {
   "cell_type": "markdown",
   "metadata": {},
   "source": [
    "### Although db.commit() is not required it is a cleaner approach to inserting data\n",
    "### db.close() is also a clean approach. Using the two will help prevent any data curruption"
   ]
  },
  {
   "cell_type": "code",
   "execution_count": 127,
   "metadata": {},
   "outputs": [
    {
     "name": "stdout",
     "output_type": "stream",
     "text": [
      "testq5\n"
     ]
    }
   ],
   "source": [
    "db = UnQLite(\"UnQ_01.db\") \n",
    "db['picq5'] = 'testq5'  # Use as a key/value store.\n",
    "print db['picq5']\n",
    "db.commit()\n",
    "db.close()"
   ]
  },
  {
   "cell_type": "code",
   "execution_count": 128,
   "metadata": {},
   "outputs": [
    {
     "data": {
      "text/plain": [
       "[('pic1', 'This is a test'), ('pic2', 'This is 2nd test'), ('picq5', 'testq5')]"
      ]
     },
     "execution_count": 128,
     "metadata": {},
     "output_type": "execute_result"
    }
   ],
   "source": [
    "db = UnQLite(\"UnQ_01.db\") \n",
    "[item for item in db]"
   ]
  },
  {
   "cell_type": "code",
   "execution_count": 129,
   "metadata": {},
   "outputs": [
    {
     "name": "stdout",
     "output_type": "stream",
     "text": [
      "testq5+plus\n"
     ]
    }
   ],
   "source": [
    "db = UnQLite(\"UnQ_01.db\") \n",
    "db['picq5'] = 'testq5+plus'  # Use as a key/value store.\n",
    "print db['picq5']\n",
    "db.commit()\n",
    "db.close()"
   ]
  },
  {
   "cell_type": "code",
   "execution_count": 130,
   "metadata": {},
   "outputs": [
    {
     "data": {
      "text/plain": [
       "[('pic1', 'This is a test'),\n",
       " ('pic2', 'This is 2nd test'),\n",
       " ('picq5', 'testq5+plus')]"
      ]
     },
     "execution_count": 130,
     "metadata": {},
     "output_type": "execute_result"
    }
   ],
   "source": [
    "db = UnQLite(\"UnQ_01.db\") \n",
    "[item for item in db]"
   ]
  },
  {
   "cell_type": "code",
   "execution_count": 131,
   "metadata": {},
   "outputs": [],
   "source": [
    "db.close()"
   ]
  },
  {
   "cell_type": "markdown",
   "metadata": {},
   "source": [
    "# Error try to display data from a closed database"
   ]
  },
  {
   "cell_type": "code",
   "execution_count": 126,
   "metadata": {},
   "outputs": [
    {
     "ename": "UnQLiteError",
     "evalue": "None",
     "output_type": "error",
     "traceback": [
      "\u001b[0;31m---------------------------------------------------------------------------\u001b[0m",
      "\u001b[0;31mUnQLiteError\u001b[0m                              Traceback (most recent call last)",
      "\u001b[0;32m<ipython-input-126-a0adc1089e6d>\u001b[0m in \u001b[0;36m<module>\u001b[0;34m()\u001b[0m\n\u001b[0;32m----> 1\u001b[0;31m \u001b[0;32mprint\u001b[0m \u001b[0mdb\u001b[0m\u001b[0;34m[\u001b[0m\u001b[0;34m'pic1'\u001b[0m\u001b[0;34m]\u001b[0m\u001b[0;34m\u001b[0m\u001b[0m\n\u001b[0m",
      "\u001b[0;32munqlite.pyx\u001b[0m in \u001b[0;36munqlite.UnQLite.__getitem__ (unqlite.c:4675)\u001b[0;34m()\u001b[0m\n",
      "\u001b[0;32munqlite.pyx\u001b[0m in \u001b[0;36munqlite.UnQLite.fetch (unqlite.c:3662)\u001b[0;34m()\u001b[0m\n",
      "\u001b[0;32munqlite.pyx\u001b[0m in \u001b[0;36munqlite.UnQLite.check_call (unqlite.c:4863)\u001b[0;34m()\u001b[0m\n",
      "\u001b[0;31mUnQLiteError\u001b[0m: None"
     ]
    }
   ],
   "source": [
    "print db['pic1']"
   ]
  },
  {
   "cell_type": "markdown",
   "metadata": {},
   "source": [
    "# Entering multiline data\n",
    "### Notice the line feeds and spacing are retained \n",
    "### Good for storing code snippets"
   ]
  },
  {
   "cell_type": "code",
   "execution_count": 132,
   "metadata": {},
   "outputs": [],
   "source": [
    "db = UnQLite(\"UnQ_01.db\") \n",
    "test = \"\"\"\n",
    ">>> with db.cursor() as cursor:\n",
    "     cursor.seek('k0')\n",
    "     for key, value in cursor:\n",
    "         print key, '=>', value\n",
    "\"\"\"\n",
    "db['multi'] = test"
   ]
  },
  {
   "cell_type": "code",
   "execution_count": 133,
   "metadata": {},
   "outputs": [
    {
     "name": "stdout",
     "output_type": "stream",
     "text": [
      "\n",
      ">>> with db.cursor() as cursor:\n",
      "     cursor.seek('k0')\n",
      "     for key, value in cursor:\n",
      "         print key, '=>', value\n",
      "\n"
     ]
    }
   ],
   "source": [
    "print db['multi']"
   ]
  },
  {
   "cell_type": "code",
   "execution_count": null,
   "metadata": {},
   "outputs": [],
   "source": [
    "## Single quotes may be used between the tripple quotes"
   ]
  },
  {
   "cell_type": "code",
   "execution_count": 134,
   "metadata": {},
   "outputs": [
    {
     "name": "stdout",
     "output_type": "stream",
     "text": [
      "\n",
      "Single-file Cross-platform Database. \n",
      "A database in SQLite is a single disk file¹. \n",
      "Furthermore, the file format is cross-platform. \n",
      "A database that is created on one machine can be \n",
      "copied and used on a different machine with a \n",
      "\"different architecture\". 'SQLite databases' are \n",
      "portable across 32-bit and 64-bit \n",
      "machines and between .\n",
      "\n"
     ]
    }
   ],
   "source": [
    "test = \"\"\"\n",
    "Single-file Cross-platform Database. \n",
    "A database in SQLite is a single disk file¹. \n",
    "Furthermore, the file format is cross-platform. \n",
    "A database that is created on one machine can be \n",
    "copied and used on a different machine with a \n",
    "\"different architecture\". 'SQLite databases' are \n",
    "portable across 32-bit and 64-bit \n",
    "machines and between .\n",
    "\"\"\"\n",
    "db['multi2'] = test\n",
    "print db['multi2']"
   ]
  },
  {
   "cell_type": "code",
   "execution_count": 135,
   "metadata": {},
   "outputs": [],
   "source": [
    "for i in range(10):\n",
    "    db['Entry_%s' % i] = str(i)"
   ]
  },
  {
   "cell_type": "code",
   "execution_count": 136,
   "metadata": {},
   "outputs": [
    {
     "data": {
      "text/plain": [
       "True"
      ]
     },
     "execution_count": 136,
     "metadata": {},
     "output_type": "execute_result"
    }
   ],
   "source": [
    "'Entry_5' in db"
   ]
  },
  {
   "cell_type": "code",
   "execution_count": 137,
   "metadata": {},
   "outputs": [
    {
     "data": {
      "text/plain": [
       "False"
      ]
     },
     "execution_count": 137,
     "metadata": {},
     "output_type": "execute_result"
    }
   ],
   "source": [
    "'Entry_11' in db"
   ]
  },
  {
   "cell_type": "code",
   "execution_count": 138,
   "metadata": {},
   "outputs": [
    {
     "data": {
      "text/plain": [
       "[('Entry_9', '9'),\n",
       " ('Entry_8', '8'),\n",
       " ('Entry_7', '7'),\n",
       " ('Entry_6', '6'),\n",
       " ('Entry_5', '5'),\n",
       " ('Entry_4', '4'),\n",
       " ('Entry_3', '3'),\n",
       " ('Entry_2', '2'),\n",
       " ('Entry_1', '1'),\n",
       " ('Entry_0', '0'),\n",
       " ('multi2',\n",
       "  '\\nSingle-file Cross-platform Database. \\nA database in SQLite is a single disk file\\xc2\\xb9. \\nFurthermore, the file format is cross-platform. \\nA database that is created on one machine can be \\ncopied and used on a different machine with a \\n\"different architecture\". \\'SQLite databases\\' are \\nportable across 32-bit and 64-bit \\nmachines and between .\\n'),\n",
       " ('multi',\n",
       "  \"\\n>>> with db.cursor() as cursor:\\n     cursor.seek('k0')\\n     for key, value in cursor:\\n         print key, '=>', value\\n\"),\n",
       " ('pic1', 'This is a test'),\n",
       " ('pic2', 'This is 2nd test'),\n",
       " ('picq5', 'testq5+plus')]"
      ]
     },
     "execution_count": 138,
     "metadata": {},
     "output_type": "execute_result"
    }
   ],
   "source": [
    "[item for item in db]"
   ]
  },
  {
   "cell_type": "code",
   "execution_count": 139,
   "metadata": {},
   "outputs": [
    {
     "name": "stdout",
     "output_type": "stream",
     "text": [
      "Entry_9 9 \n",
      "--------------\n",
      "Entry_8 8 \n",
      "--------------\n",
      "Entry_7 7 \n",
      "--------------\n",
      "Entry_6 6 \n",
      "--------------\n",
      "Entry_5 5 \n",
      "--------------\n",
      "Entry_4 4 \n",
      "--------------\n",
      "Entry_3 3 \n",
      "--------------\n",
      "Entry_2 2 \n",
      "--------------\n",
      "Entry_1 1 \n",
      "--------------\n",
      "Entry_0 0 \n",
      "--------------\n",
      "multi2 \n",
      "Single-file Cross-platform Database. \n",
      "A database in SQLite is a single disk file¹. \n",
      "Furthermore, the file format is cross-platform. \n",
      "A database that is created on one machine can be \n",
      "copied and used on a different machine with a \n",
      "\"different architecture\". 'SQLite databases' are \n",
      "portable across 32-bit and 64-bit \n",
      "machines and between .\n",
      "\n",
      "--------------\n",
      "multi \n",
      ">>> with db.cursor() as cursor:\n",
      "     cursor.seek('k0')\n",
      "     for key, value in cursor:\n",
      "         print key, '=>', value\n",
      "\n",
      "--------------\n",
      "pic1 This is a test \n",
      "--------------\n",
      "pic2 This is 2nd test \n",
      "--------------\n",
      "picq5 testq5+plus \n",
      "--------------\n"
     ]
    }
   ],
   "source": [
    "datas = [item for item in db]\n",
    "for data in datas:\n",
    "    print data[0],data[1],\"\\n--------------\""
   ]
  },
  {
   "cell_type": "code",
   "execution_count": 140,
   "metadata": {},
   "outputs": [
    {
     "name": "stdout",
     "output_type": "stream",
     "text": [
      "9\n",
      "8\n",
      "7\n",
      "6\n",
      "5\n",
      "4\n",
      "3\n",
      "2\n",
      "1\n",
      "0\n",
      "\n",
      "Single-file Cross-platform Database. \n",
      "A database in SQLite is a single disk file¹. \n",
      "Furthermore, the file format is cross-platform. \n",
      "A database that is created on one machine can be \n",
      "copied and used on a different machine with a \n",
      "\"different architecture\". 'SQLite databases' are \n",
      "portable across 32-bit and 64-bit \n",
      "machines and between .\n",
      "\n",
      "\n",
      ">>> with db.cursor() as cursor:\n",
      "     cursor.seek('k0')\n",
      "     for key, value in cursor:\n",
      "         print key, '=>', value\n",
      "\n",
      "This is a test\n",
      "This is 2nd test\n",
      "testq5+plus\n"
     ]
    }
   ],
   "source": [
    "datas = [item for item in db]\n",
    "for data in datas:\n",
    "    print data[1]"
   ]
  },
  {
   "cell_type": "code",
   "execution_count": 141,
   "metadata": {},
   "outputs": [
    {
     "name": "stdout",
     "output_type": "stream",
     "text": [
      " \n",
      "This seems to work quite well\n"
     ]
    }
   ],
   "source": [
    "db.append('pic', ' \\nThis seems to work quite well')\n",
    "print db['pic']"
   ]
  },
  {
   "cell_type": "markdown",
   "metadata": {},
   "source": [
    "# Don't quite understand why is displays items without \"pic\""
   ]
  },
  {
   "cell_type": "code",
   "execution_count": 143,
   "metadata": {},
   "outputs": [
    {
     "name": "stdout",
     "output_type": "stream",
     "text": [
      "pic =>  \n",
      "This seems to work quite well\n",
      "Entry_9 => 9\n",
      "Entry_8 => 8\n",
      "Entry_7 => 7\n",
      "Entry_6 => 6\n",
      "Entry_5 => 5\n",
      "Entry_4 => 4\n",
      "Entry_3 => 3\n",
      "Entry_2 => 2\n",
      "Entry_1 => 1\n",
      "Entry_0 => 0\n",
      "multi2 => \n",
      "Single-file Cross-platform Database. \n",
      "A database in SQLite is a single disk file¹. \n",
      "Furthermore, the file format is cross-platform. \n",
      "A database that is created on one machine can be \n",
      "copied and used on a different machine with a \n",
      "\"different architecture\". 'SQLite databases' are \n",
      "portable across 32-bit and 64-bit \n",
      "machines and between .\n",
      "\n",
      "multi => \n",
      ">>> with db.cursor() as cursor:\n",
      "     cursor.seek('k0')\n",
      "     for key, value in cursor:\n",
      "         print key, '=>', value\n",
      "\n",
      "pic1 => This is a test\n",
      "pic2 => This is 2nd test\n",
      "picq5 => testq5+plus\n"
     ]
    }
   ],
   "source": [
    "with db.cursor() as cursor:\n",
    "        cursor.seek('pic')\n",
    "        for key, value in cursor:\n",
    "            print key, '=>', value"
   ]
  },
  {
   "cell_type": "code",
   "execution_count": 146,
   "metadata": {},
   "outputs": [
    {
     "name": "stdout",
     "output_type": "stream",
     "text": [
      "Entry_2  :  2\n"
     ]
    }
   ],
   "source": [
    "with db.cursor() as cursor:\n",
    "        cursor.seek('Entry_2')\n",
    "        print cursor.key(),\" : \",cursor.value()"
   ]
  },
  {
   "cell_type": "code",
   "execution_count": 149,
   "metadata": {},
   "outputs": [
    {
     "name": "stdout",
     "output_type": "stream",
     "text": [
      "[('Entry_2', '2'), ('Entry_1', '1'), ('Entry_0', '0'), ('multi2', '\\nSingle-file Cross-platform Database. \\nA database in SQLite is a single disk file\\xc2\\xb9. \\nFurthermore, the file format is cross-platform. \\nA database that is created on one machine can be \\ncopied and used on a different machine with a \\n\"different architecture\". \\'SQLite databases\\' are \\nportable across 32-bit and 64-bit \\nmachines and between .\\n'), ('multi', \"\\n>>> with db.cursor() as cursor:\\n     cursor.seek('k0')\\n     for key, value in cursor:\\n         print key, '=>', value\\n\"), ('pic1', 'This is a test'), ('pic2', 'This is 2nd test'), ('picq5', 'testq5+plus')]\n"
     ]
    }
   ],
   "source": [
    "with db.cursor() as cursor:\n",
    "        cursor.seek('Entry_2')\n",
    "        print list(cursor.fetch_until('Entry_8', include_stop_key=False))"
   ]
  },
  {
   "cell_type": "code",
   "execution_count": 150,
   "metadata": {},
   "outputs": [
    {
     "name": "stdout",
     "output_type": "stream",
     "text": [
      "[('Entry_2', '2'), ('Entry_1', '1'), ('Entry_0', '0'), ('multi2', '\\nSingle-file Cross-platform Database. \\nA database in SQLite is a single disk file\\xc2\\xb9. \\nFurthermore, the file format is cross-platform. \\nA database that is created on one machine can be \\ncopied and used on a different machine with a \\n\"different architecture\". \\'SQLite databases\\' are \\nportable across 32-bit and 64-bit \\nmachines and between .\\n'), ('multi', \"\\n>>> with db.cursor() as cursor:\\n     cursor.seek('k0')\\n     for key, value in cursor:\\n         print key, '=>', value\\n\"), ('pic1', 'This is a test'), ('pic2', 'This is 2nd test'), ('picq5', 'testq5+plus')]\n"
     ]
    }
   ],
   "source": [
    "with db.cursor() as cursor:\n",
    "        cursor.seek('Entry_2')\n",
    "        print list(cursor.fetch_until('Entry_8', include_stop_key=True))"
   ]
  },
  {
   "cell_type": "markdown",
   "metadata": {},
   "source": [
    "# At this point I notice the database journal open\n",
    "'UnQ_01.db' was taking about two - Three seconds to respond"
   ]
  },
  {
   "cell_type": "code",
   "execution_count": 151,
   "metadata": {},
   "outputs": [],
   "source": [
    "db.commit()\n",
    "db.close()"
   ]
  },
  {
   "cell_type": "markdown",
   "metadata": {},
   "source": [
    "## After commiting and closing the database the response was instantanious"
   ]
  },
  {
   "cell_type": "code",
   "execution_count": 152,
   "metadata": {},
   "outputs": [
    {
     "name": "stdout",
     "output_type": "stream",
     "text": [
      "[('Entry_2', '2'), ('Entry_3', '3'), ('Entry_4', '4'), ('Entry_5', '5'), ('Entry_6', '6'), ('Entry_7', '7'), ('Entry_8', '8')]\n"
     ]
    }
   ],
   "source": [
    "db = UnQLite(\"UnQ_01.db\") \n",
    "with db.cursor() as cursor:\n",
    "        cursor.seek('Entry_2')\n",
    "        print list(cursor.fetch_until('Entry_8', include_stop_key=True))"
   ]
  },
  {
   "cell_type": "markdown",
   "metadata": {},
   "source": [
    "# Watching an item for item printout"
   ]
  },
  {
   "cell_type": "code",
   "execution_count": 153,
   "metadata": {},
   "outputs": [
    {
     "name": "stdout",
     "output_type": "stream",
     "text": [
      "('pic1', 'This is a test')\n",
      "('pic2', 'This is 2nd test')\n",
      "('picq5', 'testq5+plus')\n",
      "('multi', \"\\n>>> with db.cursor() as cursor:\\n     cursor.seek('k0')\\n     for key, value in cursor:\\n         print key, '=>', value\\n\")\n",
      "('multi2', '\\nSingle-file Cross-platform Database. \\nA database in SQLite is a single disk file\\xc2\\xb9. \\nFurthermore, the file format is cross-platform. \\nA database that is created on one machine can be \\ncopied and used on a different machine with a \\n\"different architecture\". \\'SQLite databases\\' are \\nportable across 32-bit and 64-bit \\nmachines and between .\\n')\n",
      "('Entry_0', '0')\n",
      "('Entry_1', '1')\n",
      "('Entry_2', '2')\n",
      "('Entry_3', '3')\n",
      "('Entry_4', '4')\n",
      "('Entry_5', '5')\n",
      "('Entry_6', '6')\n",
      "('Entry_7', '7')\n",
      "('Entry_8', '8')\n",
      "('Entry_9', '9')\n",
      "('pic', ' \\nThis seems to work quite well')\n"
     ]
    }
   ],
   "source": [
    "from time import sleep\n",
    "for item in db:\n",
    "    sleep(1)\n",
    "    print item"
   ]
  },
  {
   "cell_type": "code",
   "execution_count": 156,
   "metadata": {},
   "outputs": [
    {
     "name": "stdout",
     "output_type": "stream",
     "text": [
      "This is a test\n",
      "This is 2nd test\n",
      "testq5+plus\n",
      "\n",
      ">>> with db.cursor() as cursor:\n",
      "     cursor.seek('k0')\n",
      "     for key, value in cursor:\n",
      "         print key, '=>', value\n",
      "\n",
      "\n",
      "Single-file Cross-platform Database. \n",
      "A database in SQLite is a single disk file¹. \n",
      "Furthermore, the file format is cross-platform. \n",
      "A database that is created on one machine can be \n",
      "copied and used on a different machine with a \n",
      "\"different architecture\". 'SQLite databases' are \n",
      "portable across 32-bit and 64-bit \n",
      "machines and between .\n",
      "\n",
      "0\n",
      "1\n",
      "2\n",
      "3\n",
      "4\n",
      "5\n",
      "6\n",
      "7\n",
      "8\n",
      "9\n",
      " \n",
      "This seems to work quite well\n"
     ]
    }
   ],
   "source": [
    "from time import sleep\n",
    "for search in db:\n",
    "    sleep(1)\n",
    "    print search[1]"
   ]
  },
  {
   "cell_type": "markdown",
   "metadata": {},
   "source": [
    "# Using sleep to slow response and watch progress"
   ]
  },
  {
   "cell_type": "code",
   "execution_count": 173,
   "metadata": {},
   "outputs": [
    {
     "name": "stdout",
     "output_type": "stream",
     "text": [
      "pic1\n",
      "pic2\n",
      "picq5\n",
      "multi\n",
      "multi2\n",
      "Entry_0\n",
      "Entry_1\n",
      "Entry_2\n",
      "Entry_3\n",
      "Entry_4\n",
      "Entry_5\n",
      "Entry_6\n",
      "Entry_7\n",
      "Entry_8\n",
      "Entry_9\n",
      "pic\n"
     ]
    }
   ],
   "source": [
    "from time import sleep\n",
    "for search in db:\n",
    "    sleep(.5)\n",
    "    print search[0]"
   ]
  },
  {
   "cell_type": "code",
   "execution_count": 158,
   "metadata": {},
   "outputs": [
    {
     "name": "stdout",
     "output_type": "stream",
     "text": [
      "\n",
      "Single-file Cross-platform Database. \n",
      "A database in SQLite is a single disk file¹. \n",
      "Furthermore, the file format is cross-platform. \n",
      "A database that is created on one machine can be \n",
      "copied and used on a different machine with a \n",
      "\"different architecture\". 'SQLite databases' are \n",
      "portable across 32-bit and 64-bit \n",
      "machines and between .\n",
      "\n"
     ]
    }
   ],
   "source": [
    "from time import sleep\n",
    "for search in db:\n",
    "    sleep(.2)\n",
    "    if \"Cross\" in search[1]:\n",
    "        print search[1]"
   ]
  },
  {
   "cell_type": "markdown",
   "metadata": {},
   "source": [
    "# Generate an auto increment key based on last entry"
   ]
  },
  {
   "cell_type": "code",
   "execution_count": 164,
   "metadata": {},
   "outputs": [
    {
     "name": "stdout",
     "output_type": "stream",
     "text": [
      "testq5+plus\n"
     ]
    }
   ],
   "source": [
    "db = UnQLite(\"UnQ_01.db\") \n",
    "print db[key]"
   ]
  },
  {
   "cell_type": "code",
   "execution_count": 172,
   "metadata": {},
   "outputs": [
    {
     "ename": "NameError",
     "evalue": "name 'rowid' is not defined",
     "output_type": "error",
     "traceback": [
      "\u001b[0;31m---------------------------------------------------------------------------\u001b[0m",
      "\u001b[0;31mNameError\u001b[0m                                 Traceback (most recent call last)",
      "\u001b[0;32m<ipython-input-172-81bad187208c>\u001b[0m in \u001b[0;36m<module>\u001b[0;34m()\u001b[0m\n\u001b[1;32m      1\u001b[0m \u001b[0mdb\u001b[0m \u001b[0;34m=\u001b[0m \u001b[0mUnQLite\u001b[0m\u001b[0;34m(\u001b[0m\u001b[0;34m\"UnQ_01.db\"\u001b[0m\u001b[0;34m)\u001b[0m\u001b[0;34m\u001b[0m\u001b[0m\n\u001b[0;32m----> 2\u001b[0;31m \u001b[0;32mprint\u001b[0m \u001b[0mdb\u001b[0m\u001b[0;34m[\u001b[0m\u001b[0mrowid\u001b[0m\u001b[0;34m]\u001b[0m\u001b[0;34m\u001b[0m\u001b[0m\n\u001b[0m",
      "\u001b[0;31mNameError\u001b[0m: name 'rowid' is not defined"
     ]
    }
   ],
   "source": [
    "db = UnQLite(\"UnQ_01.db\") \n",
    "print db[rowid]"
   ]
  },
  {
   "cell_type": "code",
   "execution_count": null,
   "metadata": {},
   "outputs": [],
   "source": [
    "users.last_record_id"
   ]
  },
  {
   "cell_type": "code",
   "execution_count": null,
   "metadata": {},
   "outputs": [],
   "source": [
    "db = UnQLite(\"UnQ_01.db\") \n",
    "db['picq5'] = 'testq5'"
   ]
  },
  {
   "cell_type": "code",
   "execution_count": 162,
   "metadata": {},
   "outputs": [],
   "source": [
    "db.commit()\n",
    "db.close()"
   ]
  },
  {
   "cell_type": "code",
   "execution_count": 38,
   "metadata": {},
   "outputs": [
    {
     "name": "stdout",
     "output_type": "stream",
     "text": [
      "0\n",
      "\n",
      "Single-file Cross-platform Database. \n",
      "A database in SQLite is a single disk file¹. \n",
      "Furthermore, the file format is cross-platform. \n",
      "A database that is created on one machine can be \n",
      "copied and used on a different machine with a \n",
      "different architecture. SQLite databases are \n",
      "portable across 32-bit and 64-bit \n",
      "machines and between .\n",
      "\n",
      "\n",
      "with db.cursor() as cursor:\n",
      "    cursor.seek('k0')\n",
      "    for key, value in cursor:\n",
      "        print key, '=>', value\n",
      "\n",
      "This is a test\n",
      "test This seems to work quite well This seems to work quite well \n",
      "This seems to work quite well\n"
     ]
    }
   ],
   "source": [
    "db = UnQLite(\"UnQ_01.db\") \n",
    "with db.cursor() as cursor:\n",
    "        cursor.seek('k0')\n",
    "        for line in list(cursor.fetch_until('k2', include_stop_key=False)):\n",
    "            print line[1]\n",
    "        "
   ]
  },
  {
   "cell_type": "code",
   "execution_count": 89,
   "metadata": {},
   "outputs": [],
   "source": [
    "db = UnQLite(\"cool.db\") \n",
    "script = \"\"\"\n",
    "     db_create('users');\n",
    "     db_store('users', $list_of_users);\n",
    "     $users_from_db = db_fetch_all('users');\n",
    "     \"\"\"\n",
    "list_of_users = [\n",
    "     {'username': 'Huey', 'age': 3},\n",
    "     {'username': 'Mickey', 'age': 5}  ]\n",
    "\n",
    "with db.vm(script) as vm:\n",
    "        vm['list_of_users'] = list_of_users\n",
    "        vm.execute()\n",
    "        users_from_db = vm['users_from_db']\n",
    "        \n",
    "#db.close()        "
   ]
  },
  {
   "cell_type": "code",
   "execution_count": 90,
   "metadata": {},
   "outputs": [],
   "source": [
    "users_from_db"
   ]
  },
  {
   "cell_type": "code",
   "execution_count": 91,
   "metadata": {},
   "outputs": [
    {
     "data": {
      "text/plain": [
       "False"
      ]
     },
     "execution_count": 91,
     "metadata": {},
     "output_type": "execute_result"
    }
   ],
   "source": [
    "users = db.collection('users')\n",
    "users.create()  # Create the collection if it does not exist.\n",
    "users.exists()"
   ]
  },
  {
   "cell_type": "code",
   "execution_count": 42,
   "metadata": {},
   "outputs": [
    {
     "data": {
      "text/plain": [
       "4"
      ]
     },
     "execution_count": 42,
     "metadata": {},
     "output_type": "execute_result"
    }
   ],
   "source": [
    "users.store([\n",
    "     {'name': 'Charlie', 'color': 'green'},\n",
    "     {'name': 'Huey', 'color': 'white'},\n",
    "     {'name': 'Mickey', 'color': 'black'}])"
   ]
  },
  {
   "cell_type": "code",
   "execution_count": 43,
   "metadata": {},
   "outputs": [
    {
     "data": {
      "text/plain": [
       "5"
      ]
     },
     "execution_count": 43,
     "metadata": {},
     "output_type": "execute_result"
    }
   ],
   "source": [
    "users.store({'name': 'Leslie', 'color': 'also green'})"
   ]
  },
  {
   "cell_type": "code",
   "execution_count": 46,
   "metadata": {},
   "outputs": [],
   "source": [
    "users.fetch(0)"
   ]
  },
  {
   "cell_type": "code",
   "execution_count": 45,
   "metadata": {},
   "outputs": [
    {
     "data": {
      "text/plain": [
       "True"
      ]
     },
     "execution_count": 45,
     "metadata": {},
     "output_type": "execute_result"
    }
   ],
   "source": [
    "users.delete(0)"
   ]
  },
  {
   "cell_type": "code",
   "execution_count": null,
   "metadata": {},
   "outputs": [],
   "source": [
    "users.delete(users.last_record_id())"
   ]
  },
  {
   "cell_type": "code",
   "execution_count": 47,
   "metadata": {},
   "outputs": [
    {
     "data": {
      "text/plain": [
       "[{'__id': 1, 'age': 5, 'username': 'Mickey'},\n",
       " {'__id': 2, 'color': 'green', 'name': 'Charlie'},\n",
       " {'__id': 3, 'color': 'white', 'name': 'Huey'},\n",
       " {'__id': 4, 'color': 'black', 'name': 'Mickey'},\n",
       " {'__id': 5, 'color': 'also green', 'name': 'Leslie'}]"
      ]
     },
     "execution_count": 47,
     "metadata": {},
     "output_type": "execute_result"
    }
   ],
   "source": [
    "users.all()"
   ]
  },
  {
   "cell_type": "code",
   "execution_count": 50,
   "metadata": {},
   "outputs": [
    {
     "name": "stdout",
     "output_type": "stream",
     "text": [
      "{'username': 'Mickey', 'age': 5, '__id': 1}\n",
      "{'color': 'green', 'name': 'Charlie', '__id': 2}\n",
      "{'color': 'white', 'name': 'Huey', '__id': 3}\n",
      "{'color': 'black', 'name': 'Mickey', '__id': 4}\n",
      "{'color': 'also green', 'name': 'Leslie', '__id': 5}\n"
     ]
    }
   ],
   "source": [
    "for line in users.all():\n",
    "    print line"
   ]
  },
  {
   "cell_type": "code",
   "execution_count": 74,
   "metadata": {},
   "outputs": [
    {
     "name": "stdout",
     "output_type": "stream",
     "text": [
      "username: Mickey\n",
      " age: 5\n",
      " __id: 1\n",
      "\n",
      "color: green\n",
      " name: Charlie\n",
      " __id: 2\n",
      "\n",
      "color: white\n",
      " name: Huey\n",
      " __id: 3\n",
      "\n",
      "color: black\n",
      " name: Mickey\n",
      " __id: 4\n",
      "\n",
      "color: also green\n",
      " name: Leslie\n",
      " __id: 5\n",
      "\n"
     ]
    }
   ],
   "source": [
    "lines = users.all()\n",
    "for line in lines:\n",
    "    line = str(line) \n",
    "    line = line.split(\"}\")\n",
    "    for row in line:\n",
    "        row = row.replace(\"{\",\"\")\n",
    "        row = row.replace(\"'\",\"\")\n",
    "        row = row.replace(\",\",\"\\n\")\n",
    "        print row"
   ]
  },
  {
   "cell_type": "code",
   "execution_count": 75,
   "metadata": {},
   "outputs": [
    {
     "data": {
      "text/plain": [
       "[{'__id': 3, 'color': 'white', 'name': 'Huey'}]"
      ]
     },
     "execution_count": 75,
     "metadata": {},
     "output_type": "execute_result"
    }
   ],
   "source": [
    "users.filter(lambda obj: obj['name'].startswith('H'))"
   ]
  },
  {
   "cell_type": "code",
   "execution_count": 76,
   "metadata": {},
   "outputs": [
    {
     "data": {
      "text/plain": [
       "'v1'"
      ]
     },
     "execution_count": 76,
     "metadata": {},
     "output_type": "execute_result"
    }
   ],
   "source": [
    "db = UnQLite('test.db')\n",
    "with db.transaction():\n",
    "        db['k1'] = 'v1'\n",
    "        db['k2'] = 'v2'\n",
    "        db['k3'] = 'v3'\n",
    "\n",
    "db['k1']"
   ]
  },
  {
   "cell_type": "code",
   "execution_count": 78,
   "metadata": {},
   "outputs": [],
   "source": [
    "@db.commit_on_success\n",
    "def save_value(key, value, exc=False):\n",
    "        db[key] = value\n",
    "        if exc:\n",
    "            raise Exception('uh-oh')"
   ]
  },
  {
   "cell_type": "code",
   "execution_count": 80,
   "metadata": {},
   "outputs": [],
   "source": [
    "save_value('k3', 'v3')\n",
    "#save_value('k3', 'vx', True)\n",
    "save_value('k3', 'vx')"
   ]
  },
  {
   "cell_type": "code",
   "execution_count": null,
   "metadata": {},
   "outputs": [],
   "source": [
    "db['k3']"
   ]
  },
  {
   "cell_type": "code",
   "execution_count": 81,
   "metadata": {},
   "outputs": [
    {
     "data": {
      "text/plain": [
       "'v3-xx'"
      ]
     },
     "execution_count": 81,
     "metadata": {},
     "output_type": "execute_result"
    }
   ],
   "source": [
    "#For finer control you can call \n",
    "#db.begin() \n",
    "#db.rollback() \n",
    "#and db.commit() manually:\n",
    "\n",
    "db.begin()\n",
    "db['k3'] = 'v3-xx'\n",
    "db.commit()\n",
    "\n",
    "db['k3']"
   ]
  },
  {
   "cell_type": "code",
   "execution_count": null,
   "metadata": {},
   "outputs": [],
   "source": []
  },
  {
   "cell_type": "code",
   "execution_count": 83,
   "metadata": {},
   "outputs": [
    {
     "name": "stdout",
     "output_type": "stream",
     "text": [
      "Help on module unqlite:\n",
      "\n",
      "NAME\n",
      "    unqlite\n",
      "\n",
      "FILE\n",
      "    /home/jack/anaconda2/lib/python2.7/site-packages/unqlite.so\n",
      "\n",
      "CLASSES\n",
      "    __builtin__.object\n",
      "        Collection\n",
      "        Context\n",
      "        Cursor\n",
      "        Transaction\n",
      "        UnQLite\n",
      "        VM\n",
      "    exceptions.Exception(exceptions.BaseException)\n",
      "        UnQLiteError\n",
      "    \n",
      "    class Collection(__builtin__.object)\n",
      "     |  Manage collections of UnQLite JSON documents.\n",
      "     |  \n",
      "     |  Methods defined here:\n",
      "     |  \n",
      "     |  __delitem__(...)\n",
      "     |      x.__delitem__(y) <==> del x[y]\n",
      "     |  \n",
      "     |  __getitem__(...)\n",
      "     |      x.__getitem__(y) <==> x[y]\n",
      "     |  \n",
      "     |  __init__(...)\n",
      "     |      x.__init__(...) initializes x; see help(type(x)) for signature\n",
      "     |  \n",
      "     |  __len__(...)\n",
      "     |      Return the number of records in the document collection.\n",
      "     |  \n",
      "     |  __setitem__(...)\n",
      "     |      x.__setitem__(i, y) <==> x[i]=y\n",
      "     |  \n",
      "     |  all(...)\n",
      "     |      Retrieve all records in the given collection.\n",
      "     |  \n",
      "     |  create(...)\n",
      "     |      Create the named collection.\n",
      "     |      \n",
      "     |      Note: this does not create a new JSON document, this method is\n",
      "     |      used to create the collection itself.\n",
      "     |  \n",
      "     |  current_record_id(...)\n",
      "     |      Return the ID of the current JSON document.\n",
      "     |  \n",
      "     |  delete(...)\n",
      "     |      Delete the document associated with the given ID.\n",
      "     |  \n",
      "     |  drop(...)\n",
      "     |      Drop the collection and all associated records.\n",
      "     |  \n",
      "     |  error_log(...)\n",
      "     |  \n",
      "     |  exists(...)\n",
      "     |      Return boolean indicating whether the collection exists.\n",
      "     |  \n",
      "     |  fetch(...)\n",
      "     |      Fetch the document associated with the given ID.\n",
      "     |  \n",
      "     |  fetch_current(...)\n",
      "     |  \n",
      "     |  filter(...)\n",
      "     |      Filter the records in the collection using the provided Python\n",
      "     |      callback.\n",
      "     |  \n",
      "     |  last_record_id(...)\n",
      "     |      Return the ID of the last document to be stored.\n",
      "     |  \n",
      "     |  reset_cursor(...)\n",
      "     |  \n",
      "     |  store(...)\n",
      "     |      Create a new JSON document in the collection, optionally returning\n",
      "     |      the new record's ID.\n",
      "     |  \n",
      "     |  update(...)\n",
      "     |      Update the record identified by the given ID.\n",
      "     |  \n",
      "     |  ----------------------------------------------------------------------\n",
      "     |  Data and other attributes defined here:\n",
      "     |  \n",
      "     |  __new__ = <built-in method __new__ of type object>\n",
      "     |      T.__new__(S, ...) -> a new object with type S, a subtype of T\n",
      "     |  \n",
      "     |  __pyx_vtable__ = <capsule object NULL>\n",
      "    \n",
      "    class Context(__builtin__.object)\n",
      "     |  Methods defined here:\n",
      "     |  \n",
      "     |  push_result(...)\n",
      "     |  \n",
      "     |  ----------------------------------------------------------------------\n",
      "     |  Data and other attributes defined here:\n",
      "     |  \n",
      "     |  __new__ = <built-in method __new__ of type object>\n",
      "     |      T.__new__(S, ...) -> a new object with type S, a subtype of T\n",
      "     |  \n",
      "     |  __pyx_vtable__ = <capsule object NULL>\n",
      "    \n",
      "    class Cursor(__builtin__.object)\n",
      "     |  Cursor interface for efficiently iterating through database.\n",
      "     |  \n",
      "     |  Methods defined here:\n",
      "     |  \n",
      "     |  __enter__(...)\n",
      "     |  \n",
      "     |  __exit__(...)\n",
      "     |  \n",
      "     |  __iter__(...)\n",
      "     |      x.__iter__() <==> iter(x)\n",
      "     |  \n",
      "     |  __next__(...)\n",
      "     |  \n",
      "     |  delete(...)\n",
      "     |      Delete the record at the cursor's current location.\n",
      "     |  \n",
      "     |  fetch_until(...)\n",
      "     |  \n",
      "     |  first(...)\n",
      "     |      Set cursor to the first record in the database.\n",
      "     |  \n",
      "     |  is_valid(...)\n",
      "     |      Return a boolean value indicating whether the cursor is currently\n",
      "     |      pointing to a valid record.\n",
      "     |  \n",
      "     |  key(...)\n",
      "     |      Retrieve the key at the cursor's current location.\n",
      "     |  \n",
      "     |  last(...)\n",
      "     |      Set cursor to the last record in the database.\n",
      "     |  \n",
      "     |  next(...)\n",
      "     |      x.next() -> the next value, or raise StopIteration\n",
      "     |  \n",
      "     |  next_entry(...)\n",
      "     |      Move cursor to the next entry.\n",
      "     |  \n",
      "     |  previous_entry(...)\n",
      "     |      Move cursor to the previous entry.\n",
      "     |  \n",
      "     |  reset(...)\n",
      "     |      Reset the cursor's position.\n",
      "     |  \n",
      "     |  seek(...)\n",
      "     |      Seek to the given key. The flags specify how UnQLite will determine\n",
      "     |      when to stop. Values are:\n",
      "     |      \n",
      "     |      * UNQLITE_CURSOR_MATCH_EXACT (default).\n",
      "     |      * UNQLITE_CURSOR_MATCH_LE\n",
      "     |      * UNQLITE_CURSOR_MATCH_GE\n",
      "     |  \n",
      "     |  value(...)\n",
      "     |      Retrieve the value at the cursor's current location.\n",
      "     |  \n",
      "     |  ----------------------------------------------------------------------\n",
      "     |  Data and other attributes defined here:\n",
      "     |  \n",
      "     |  __new__ = <built-in method __new__ of type object>\n",
      "     |      T.__new__(S, ...) -> a new object with type S, a subtype of T\n",
      "     |  \n",
      "     |  __pyx_vtable__ = <capsule object NULL>\n",
      "    \n",
      "    class Transaction(__builtin__.object)\n",
      "     |  Expose transaction as a context manager.\n",
      "     |  \n",
      "     |  Methods defined here:\n",
      "     |  \n",
      "     |  __enter__(...)\n",
      "     |  \n",
      "     |  __exit__(...)\n",
      "     |  \n",
      "     |  __init__(...)\n",
      "     |      x.__init__(...) initializes x; see help(type(x)) for signature\n",
      "     |  \n",
      "     |  ----------------------------------------------------------------------\n",
      "     |  Data and other attributes defined here:\n",
      "     |  \n",
      "     |  __new__ = <built-in method __new__ of type object>\n",
      "     |      T.__new__(S, ...) -> a new object with type S, a subtype of T\n",
      "    \n",
      "    class UnQLite(__builtin__.object)\n",
      "     |  UnQLite database wrapper.\n",
      "     |  \n",
      "     |  Methods defined here:\n",
      "     |  \n",
      "     |  __contains__(...)\n",
      "     |      x.__contains__(y) <==> y in x\n",
      "     |  \n",
      "     |  __delitem__(...)\n",
      "     |      x.__delitem__(y) <==> del x[y]\n",
      "     |  \n",
      "     |  __enter__(...)\n",
      "     |      Use database connection as a context manager.\n",
      "     |  \n",
      "     |  __exit__(...)\n",
      "     |  \n",
      "     |  __getitem__(...)\n",
      "     |      x.__getitem__(y) <==> x[y]\n",
      "     |  \n",
      "     |  __init__(...)\n",
      "     |      x.__init__(...) initializes x; see help(type(x)) for signature\n",
      "     |  \n",
      "     |  __iter__(...)\n",
      "     |      x.__iter__() <==> iter(x)\n",
      "     |  \n",
      "     |  __len__(...)\n",
      "     |      Return the total number of records in the database.\n",
      "     |      \n",
      "     |      Note: this operation is O(n) and requires iterating through the\n",
      "     |      entire key-space.\n",
      "     |  \n",
      "     |  __setitem__(...)\n",
      "     |      x.__setitem__(i, y) <==> x[i]=y\n",
      "     |  \n",
      "     |  append(...)\n",
      "     |      Append to the value stored in the given key.\n",
      "     |  \n",
      "     |  begin(...)\n",
      "     |      Begin a new transaction. Only works for file-based databases.\n",
      "     |  \n",
      "     |  close(...)\n",
      "     |      Close database connection.\n",
      "     |  \n",
      "     |  collection(...)\n",
      "     |      Create a wrapper for working with Jx9 collections.\n",
      "     |  \n",
      "     |  commit(...)\n",
      "     |      Commit current transaction. Only works for file-based databases.\n",
      "     |  \n",
      "     |  commit_on_success(...)\n",
      "     |  \n",
      "     |  cursor(...)\n",
      "     |      Create a cursor for iterating through the database.\n",
      "     |  \n",
      "     |  delete(...)\n",
      "     |      Delete the value stored at the given key.\n",
      "     |  \n",
      "     |  disable_autocommit(...)\n",
      "     |  \n",
      "     |  exists(...)\n",
      "     |  \n",
      "     |  fetch(...)\n",
      "     |      Retrieve value at given key. Raises `KeyError` if key not found.\n",
      "     |  \n",
      "     |  flush(...)\n",
      "     |      Remove all records from the database.\n",
      "     |      \n",
      "     |      Note: this operation is O(n) and requires iterating through the\n",
      "     |      entire key-space.\n",
      "     |  \n",
      "     |  items(...)\n",
      "     |      Efficiently iterate through the database's key/value pairs.\n",
      "     |  \n",
      "     |  keys(...)\n",
      "     |      Efficiently iterate through the database's keys.\n",
      "     |  \n",
      "     |  lib_version(...)\n",
      "     |  \n",
      "     |  open(...)\n",
      "     |      Open database connection.\n",
      "     |  \n",
      "     |  random_int(...)\n",
      "     |      Generate a random integer.\n",
      "     |  \n",
      "     |  random_string(...)\n",
      "     |      Generate a random string of given length.\n",
      "     |  \n",
      "     |  range(...)\n",
      "     |  \n",
      "     |  rollback(...)\n",
      "     |      Rollback current transaction. Only works for file-based databases.\n",
      "     |  \n",
      "     |  store(...)\n",
      "     |      Store key/value.\n",
      "     |  \n",
      "     |  transaction(...)\n",
      "     |      Create context manager for wrapping a transaction.\n",
      "     |  \n",
      "     |  update(...)\n",
      "     |  \n",
      "     |  values(...)\n",
      "     |      Efficiently iterate through the database's values.\n",
      "     |  \n",
      "     |  vm(...)\n",
      "     |      Create an UnQLite Jx9 virtual machine.\n",
      "     |  \n",
      "     |  ----------------------------------------------------------------------\n",
      "     |  Data descriptors defined here:\n",
      "     |  \n",
      "     |  encoded_filename\n",
      "     |  \n",
      "     |  filename\n",
      "     |  \n",
      "     |  flags\n",
      "     |  \n",
      "     |  is_memory\n",
      "     |  \n",
      "     |  is_open\n",
      "     |  \n",
      "     |  ----------------------------------------------------------------------\n",
      "     |  Data and other attributes defined here:\n",
      "     |  \n",
      "     |  __new__ = <built-in method __new__ of type object>\n",
      "     |      T.__new__(S, ...) -> a new object with type S, a subtype of T\n",
      "     |  \n",
      "     |  __pyx_vtable__ = <capsule object NULL>\n",
      "    \n",
      "    class UnQLiteError(exceptions.Exception)\n",
      "     |  Method resolution order:\n",
      "     |      UnQLiteError\n",
      "     |      exceptions.Exception\n",
      "     |      exceptions.BaseException\n",
      "     |      __builtin__.object\n",
      "     |  \n",
      "     |  Methods defined here:\n",
      "     |  \n",
      "     |  __init__(...)\n",
      "     |  \n",
      "     |  __repr__(...)\n",
      "     |  \n",
      "     |  ----------------------------------------------------------------------\n",
      "     |  Data descriptors defined here:\n",
      "     |  \n",
      "     |  __weakref__\n",
      "     |      list of weak references to the object (if defined)\n",
      "     |  \n",
      "     |  ----------------------------------------------------------------------\n",
      "     |  Data and other attributes defined here:\n",
      "     |  \n",
      "     |  __qualname__ = 'UnQLiteError'\n",
      "     |  \n",
      "     |  ----------------------------------------------------------------------\n",
      "     |  Data and other attributes inherited from exceptions.Exception:\n",
      "     |  \n",
      "     |  __new__ = <built-in method __new__ of type object>\n",
      "     |      T.__new__(S, ...) -> a new object with type S, a subtype of T\n",
      "     |  \n",
      "     |  ----------------------------------------------------------------------\n",
      "     |  Methods inherited from exceptions.BaseException:\n",
      "     |  \n",
      "     |  __delattr__(...)\n",
      "     |      x.__delattr__('name') <==> del x.name\n",
      "     |  \n",
      "     |  __getattribute__(...)\n",
      "     |      x.__getattribute__('name') <==> x.name\n",
      "     |  \n",
      "     |  __getitem__(...)\n",
      "     |      x.__getitem__(y) <==> x[y]\n",
      "     |  \n",
      "     |  __getslice__(...)\n",
      "     |      x.__getslice__(i, j) <==> x[i:j]\n",
      "     |      \n",
      "     |      Use of negative indices is not supported.\n",
      "     |  \n",
      "     |  __reduce__(...)\n",
      "     |  \n",
      "     |  __setattr__(...)\n",
      "     |      x.__setattr__('name', value) <==> x.name = value\n",
      "     |  \n",
      "     |  __setstate__(...)\n",
      "     |  \n",
      "     |  __str__(...)\n",
      "     |      x.__str__() <==> str(x)\n",
      "     |  \n",
      "     |  __unicode__(...)\n",
      "     |  \n",
      "     |  ----------------------------------------------------------------------\n",
      "     |  Data descriptors inherited from exceptions.BaseException:\n",
      "     |  \n",
      "     |  __dict__\n",
      "     |  \n",
      "     |  args\n",
      "     |  \n",
      "     |  message\n",
      "    \n",
      "    class VM(__builtin__.object)\n",
      "     |  Jx9 virtual-machine interface.\n",
      "     |  \n",
      "     |  Methods defined here:\n",
      "     |  \n",
      "     |  __delitem__(...)\n",
      "     |      x.__delitem__(y) <==> del x[y]\n",
      "     |  \n",
      "     |  __enter__(...)\n",
      "     |  \n",
      "     |  __exit__(...)\n",
      "     |  \n",
      "     |  __getitem__(...)\n",
      "     |      x.__getitem__(y) <==> x[y]\n",
      "     |  \n",
      "     |  __setitem__(...)\n",
      "     |      x.__setitem__(i, y) <==> x[i]=y\n",
      "     |  \n",
      "     |  close(...)\n",
      "     |      Close and release the virtual machine.\n",
      "     |  \n",
      "     |  compile(...)\n",
      "     |      Compile the Jx9 script.\n",
      "     |  \n",
      "     |  execute(...)\n",
      "     |      Execute the compiled Jx9 script.\n",
      "     |  \n",
      "     |  get_value(...)\n",
      "     |      Retrieve the value of a variable after the execution of the\n",
      "     |      Jx9 script.\n",
      "     |  \n",
      "     |  set_value(...)\n",
      "     |      Set the value of a variable in the Jx9 script.\n",
      "     |  \n",
      "     |  ----------------------------------------------------------------------\n",
      "     |  Data descriptors defined here:\n",
      "     |  \n",
      "     |  code\n",
      "     |  \n",
      "     |  encoded_code\n",
      "     |  \n",
      "     |  ----------------------------------------------------------------------\n",
      "     |  Data and other attributes defined here:\n",
      "     |  \n",
      "     |  __new__ = <built-in method __new__ of type object>\n",
      "     |      T.__new__(S, ...) -> a new object with type S, a subtype of T\n",
      "     |  \n",
      "     |  __pyx_vtable__ = <capsule object NULL>\n",
      "\n",
      "FUNCTIONS\n",
      "    fsencode = lambda1(...)\n",
      "\n",
      "DATA\n",
      "    __test__ = {}\n",
      "\n",
      "\n"
     ]
    }
   ],
   "source": [
    "import unqlite\n",
    "help(unqlite)"
   ]
  },
  {
   "cell_type": "code",
   "execution_count": 85,
   "metadata": {},
   "outputs": [
    {
     "name": "stdout",
     "output_type": "stream",
     "text": [
      "Help on class UnQLite in module unqlite:\n",
      "\n",
      "class UnQLite(__builtin__.object)\n",
      " |  UnQLite database wrapper.\n",
      " |  \n",
      " |  Methods defined here:\n",
      " |  \n",
      " |  __contains__(...)\n",
      " |      x.__contains__(y) <==> y in x\n",
      " |  \n",
      " |  __delitem__(...)\n",
      " |      x.__delitem__(y) <==> del x[y]\n",
      " |  \n",
      " |  __enter__(...)\n",
      " |      Use database connection as a context manager.\n",
      " |  \n",
      " |  __exit__(...)\n",
      " |  \n",
      " |  __getitem__(...)\n",
      " |      x.__getitem__(y) <==> x[y]\n",
      " |  \n",
      " |  __init__(...)\n",
      " |      x.__init__(...) initializes x; see help(type(x)) for signature\n",
      " |  \n",
      " |  __iter__(...)\n",
      " |      x.__iter__() <==> iter(x)\n",
      " |  \n",
      " |  __len__(...)\n",
      " |      Return the total number of records in the database.\n",
      " |      \n",
      " |      Note: this operation is O(n) and requires iterating through the\n",
      " |      entire key-space.\n",
      " |  \n",
      " |  __setitem__(...)\n",
      " |      x.__setitem__(i, y) <==> x[i]=y\n",
      " |  \n",
      " |  append(...)\n",
      " |      Append to the value stored in the given key.\n",
      " |  \n",
      " |  begin(...)\n",
      " |      Begin a new transaction. Only works for file-based databases.\n",
      " |  \n",
      " |  close(...)\n",
      " |      Close database connection.\n",
      " |  \n",
      " |  collection(...)\n",
      " |      Create a wrapper for working with Jx9 collections.\n",
      " |  \n",
      " |  commit(...)\n",
      " |      Commit current transaction. Only works for file-based databases.\n",
      " |  \n",
      " |  commit_on_success(...)\n",
      " |  \n",
      " |  cursor(...)\n",
      " |      Create a cursor for iterating through the database.\n",
      " |  \n",
      " |  delete(...)\n",
      " |      Delete the value stored at the given key.\n",
      " |  \n",
      " |  disable_autocommit(...)\n",
      " |  \n",
      " |  exists(...)\n",
      " |  \n",
      " |  fetch(...)\n",
      " |      Retrieve value at given key. Raises `KeyError` if key not found.\n",
      " |  \n",
      " |  flush(...)\n",
      " |      Remove all records from the database.\n",
      " |      \n",
      " |      Note: this operation is O(n) and requires iterating through the\n",
      " |      entire key-space.\n",
      " |  \n",
      " |  items(...)\n",
      " |      Efficiently iterate through the database's key/value pairs.\n",
      " |  \n",
      " |  keys(...)\n",
      " |      Efficiently iterate through the database's keys.\n",
      " |  \n",
      " |  lib_version(...)\n",
      " |  \n",
      " |  open(...)\n",
      " |      Open database connection.\n",
      " |  \n",
      " |  random_int(...)\n",
      " |      Generate a random integer.\n",
      " |  \n",
      " |  random_string(...)\n",
      " |      Generate a random string of given length.\n",
      " |  \n",
      " |  range(...)\n",
      " |  \n",
      " |  rollback(...)\n",
      " |      Rollback current transaction. Only works for file-based databases.\n",
      " |  \n",
      " |  store(...)\n",
      " |      Store key/value.\n",
      " |  \n",
      " |  transaction(...)\n",
      " |      Create context manager for wrapping a transaction.\n",
      " |  \n",
      " |  update(...)\n",
      " |  \n",
      " |  values(...)\n",
      " |      Efficiently iterate through the database's values.\n",
      " |  \n",
      " |  vm(...)\n",
      " |      Create an UnQLite Jx9 virtual machine.\n",
      " |  \n",
      " |  ----------------------------------------------------------------------\n",
      " |  Data descriptors defined here:\n",
      " |  \n",
      " |  encoded_filename\n",
      " |  \n",
      " |  filename\n",
      " |  \n",
      " |  flags\n",
      " |  \n",
      " |  is_memory\n",
      " |  \n",
      " |  is_open\n",
      " |  \n",
      " |  ----------------------------------------------------------------------\n",
      " |  Data and other attributes defined here:\n",
      " |  \n",
      " |  __new__ = <built-in method __new__ of type object>\n",
      " |      T.__new__(S, ...) -> a new object with type S, a subtype of T\n",
      " |  \n",
      " |  __pyx_vtable__ = <capsule object NULL>\n",
      "\n"
     ]
    }
   ],
   "source": [
    "import unqlite\n",
    "help(unqlite.UnQLite)"
   ]
  },
  {
   "cell_type": "code",
   "execution_count": 84,
   "metadata": {
    "scrolled": true
   },
   "outputs": [
    {
     "name": "stdout",
     "output_type": "stream",
     "text": [
      "Help on class VM in module unqlite:\n",
      "\n",
      "class VM(__builtin__.object)\n",
      " |  Jx9 virtual-machine interface.\n",
      " |  \n",
      " |  Methods defined here:\n",
      " |  \n",
      " |  __delitem__(...)\n",
      " |      x.__delitem__(y) <==> del x[y]\n",
      " |  \n",
      " |  __enter__(...)\n",
      " |  \n",
      " |  __exit__(...)\n",
      " |  \n",
      " |  __getitem__(...)\n",
      " |      x.__getitem__(y) <==> x[y]\n",
      " |  \n",
      " |  __setitem__(...)\n",
      " |      x.__setitem__(i, y) <==> x[i]=y\n",
      " |  \n",
      " |  close(...)\n",
      " |      Close and release the virtual machine.\n",
      " |  \n",
      " |  compile(...)\n",
      " |      Compile the Jx9 script.\n",
      " |  \n",
      " |  execute(...)\n",
      " |      Execute the compiled Jx9 script.\n",
      " |  \n",
      " |  get_value(...)\n",
      " |      Retrieve the value of a variable after the execution of the\n",
      " |      Jx9 script.\n",
      " |  \n",
      " |  set_value(...)\n",
      " |      Set the value of a variable in the Jx9 script.\n",
      " |  \n",
      " |  ----------------------------------------------------------------------\n",
      " |  Data descriptors defined here:\n",
      " |  \n",
      " |  code\n",
      " |  \n",
      " |  encoded_code\n",
      " |  \n",
      " |  ----------------------------------------------------------------------\n",
      " |  Data and other attributes defined here:\n",
      " |  \n",
      " |  __new__ = <built-in method __new__ of type object>\n",
      " |      T.__new__(S, ...) -> a new object with type S, a subtype of T\n",
      " |  \n",
      " |  __pyx_vtable__ = <capsule object NULL>\n",
      "\n"
     ]
    }
   ],
   "source": [
    "import unqlite\n",
    "help(unqlite.VM)"
   ]
  },
  {
   "cell_type": "code",
   "execution_count": 174,
   "metadata": {},
   "outputs": [
    {
     "name": "stdout",
     "output_type": "stream",
     "text": [
      "Writing testNuitka.py\n"
     ]
    }
   ],
   "source": [
    "%%writefile testNuitka.py\n",
    "print \"\"\"\n",
    "class VM(__builtin__.object)\n",
    " |  Jx9 virtual-machine interface.\n",
    " |  \n",
    " |  Methods defined here:\n",
    " |  \n",
    " |  __delitem__(...)\n",
    " |      x.__delitem__(y) <==> del x[y]\n",
    " |  \n",
    " |  __enter__(...)\n",
    " |  \n",
    " |  __exit__(...)\n",
    " |  \n",
    " |  __getitem__(...)\n",
    " |      x.__getitem__(y) <==> x[y]\n",
    " |  \n",
    " |  __setitem__(...)\n",
    " |      x.__setitem__(i, y) <==> x[i]=y\n",
    "\n",
    "\"\"\""
   ]
  },
  {
   "cell_type": "code",
   "execution_count": 193,
   "metadata": {},
   "outputs": [],
   "source": [
    "!nuitka --recurse-all snippets.py"
   ]
  },
  {
   "cell_type": "code",
   "execution_count": 194,
   "metadata": {},
   "outputs": [
    {
     "name": "stdout",
     "output_type": "stream",
     "text": [
      "cool.db\t\tsnippets.exe  testNuitka.build\tUncool.db\r\n",
      "snippet.db\tsnippets.py   testNuitka.exe\tUnQ_01.db\r\n",
      "snippets.build\ttest.db       testNuitka.py\tunqlite-python.ipynb\r\n"
     ]
    }
   ],
   "source": [
    "!ls"
   ]
  },
  {
   "cell_type": "code",
   "execution_count": 184,
   "metadata": {},
   "outputs": [],
   "source": [
    "!rm testNuitka.exe"
   ]
  },
  {
   "cell_type": "code",
   "execution_count": 179,
   "metadata": {},
   "outputs": [
    {
     "name": "stdout",
     "output_type": "stream",
     "text": [
      "/bin/sh: 1: testNuitka.exe: not found\r\n"
     ]
    }
   ],
   "source": [
    "!testNuitka.exe"
   ]
  },
  {
   "cell_type": "code",
   "execution_count": 192,
   "metadata": {},
   "outputs": [
    {
     "name": "stdout",
     "output_type": "stream",
     "text": [
      "Writing snippets.py\n"
     ]
    }
   ],
   "source": [
    "%%writefile snippets.py\n",
    "import sqlite3\n",
    "conn = sqlite3.connect(\"snippet.db\")\n",
    "c = conn.cursor()\n",
    "SEARCH = raw_input(\"SEARCH : \")\n",
    "for row in c.execute(\"SELECT rowid,* FROM snippet WHERE snippet MATCH ?\",(SEARCH,)):\n",
    "    print row[2]\n"
   ]
  },
  {
   "cell_type": "code",
   "execution_count": 188,
   "metadata": {},
   "outputs": [],
   "source": [
    "!cp /home/jack/snippet.db ."
   ]
  },
  {
   "cell_type": "code",
   "execution_count": 195,
   "metadata": {},
   "outputs": [
    {
     "name": "stdout",
     "output_type": "stream",
     "text": [
      "Writing index.html\n"
     ]
    }
   ],
   "source": [
    "%%writefile index.html\n",
    "<!DOCTYPE html>\n",
    "<h1>TEST</h1?"
   ]
  },
  {
   "cell_type": "code",
   "execution_count": 198,
   "metadata": {},
   "outputs": [
    {
     "ename": "ImportError",
     "evalue": "No module named webkit",
     "output_type": "error",
     "traceback": [
      "\u001b[0;31m---------------------------------------------------------------------------\u001b[0m",
      "\u001b[0;31mImportError\u001b[0m                               Traceback (most recent call last)",
      "\u001b[0;32m<ipython-input-198-3e5d4ee22c82>\u001b[0m in \u001b[0;36m<module>\u001b[0;34m()\u001b[0m\n\u001b[1;32m      1\u001b[0m \u001b[0;31m#!/usr/bin/env python\u001b[0m\u001b[0;34m\u001b[0m\u001b[0;34m\u001b[0m\u001b[0m\n\u001b[1;32m      2\u001b[0m \u001b[0;34m\u001b[0m\u001b[0m\n\u001b[0;32m----> 3\u001b[0;31m \u001b[0;32mimport\u001b[0m \u001b[0mwebkit\u001b[0m\u001b[0;34m,\u001b[0m \u001b[0mgtk\u001b[0m\u001b[0;34m,\u001b[0m \u001b[0mos\u001b[0m\u001b[0;34m\u001b[0m\u001b[0m\n\u001b[0m\u001b[1;32m      4\u001b[0m \u001b[0;34m\u001b[0m\u001b[0m\n\u001b[1;32m      5\u001b[0m \u001b[0mwin\u001b[0m \u001b[0;34m=\u001b[0m \u001b[0mgtk\u001b[0m\u001b[0;34m.\u001b[0m\u001b[0mWindow\u001b[0m\u001b[0;34m(\u001b[0m\u001b[0;34m)\u001b[0m\u001b[0;34m\u001b[0m\u001b[0m\n",
      "\u001b[0;31mImportError\u001b[0m: No module named webkit"
     ]
    }
   ],
   "source": [
    "#!/usr/bin/env python\n",
    " \n",
    "import webkit, gtk, os\n",
    " \n",
    "win = gtk.Window()\n",
    "win.resize(600,800)\n",
    "win.connect('destroy', lambda w: gtk.main_quit())\n",
    " \n",
    "scroller = gtk.ScrolledWindow()\n",
    "win.add(scroller)\n",
    " \n",
    "web = webkit.WebView()\n",
    "path=os.getcwd()\n",
    "print path\n",
    " \n",
    "web.open(\"/index.html\")\n",
    " \n",
    "scroller.add(web)\n",
    " \n",
    "win.show_all()\n",
    " \n",
    "gtk.main()"
   ]
  },
  {
   "cell_type": "code",
   "execution_count": null,
   "metadata": {},
   "outputs": [],
   "source": []
  }
 ],
 "metadata": {
  "kernelspec": {
   "display_name": "DefaultPY",
   "language": "python",
   "name": "default_py"
  },
  "language_info": {
   "codemirror_mode": {
    "name": "ipython",
    "version": 2
   },
   "file_extension": ".py",
   "mimetype": "text/x-python",
   "name": "python",
   "nbconvert_exporter": "python",
   "pygments_lexer": "ipython2",
   "version": "2.7.14"
  }
 },
 "nbformat": 4,
 "nbformat_minor": 2
}
